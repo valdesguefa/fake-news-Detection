{
 "cells": [
  {
   "cell_type": "markdown",
   "metadata": {},
   "source": [
    "#### 1ere partie Ecomatin\n"
   ]
  },
  {
   "cell_type": "code",
   "execution_count": 11,
   "metadata": {},
   "outputs": [],
   "source": [
    "from bs4 import BeautifulSoup\n",
    "import requests\n",
    "import pandas as pd\n"
   ]
  },
  {
   "cell_type": "code",
   "execution_count": 12,
   "metadata": {},
   "outputs": [],
   "source": [
    "def getContent(url):\n",
    "    htmlText1 = requests.get(url).text\n",
    "    otherSubTitle=\"\"\n",
    "    subTitle=\"\"\n",
    "    soup1=BeautifulSoup(htmlText1, 'html.parser')\n",
    "    #print(soup1)\n",
    "    if not soup1.find('h2',class_=\"entry-sub-title\") is None:\n",
    "        subTitle=soup1.find('h2',class_=\"entry-sub-title\").text\n",
    "        #find('div',class_='site-content container')\n",
    "    #print(\"kllklksd;lk;sdlk\"+str(subTitle)+\"\\n\")\n",
    "    elt=soup1.find('div',class_='entry-content entry clearfix')\n",
    "    #print(elt)\n",
    "    temp=elt.find_all('p')\n",
    "    #print(temp)\n",
    "    for e in temp:\n",
    "        otherSubTitle=otherSubTitle+\" \"+str(e.text)\n",
    "    return subTitle+\" \"+otherSubTitle"
   ]
  },
  {
   "cell_type": "code",
   "execution_count": 13,
   "metadata": {},
   "outputs": [],
   "source": [
    "def getCSV(data):   \n",
    "    data1=[]\n",
    "    \"\"\"\n",
    "    'auteur':auteur,\n",
    "        'title':title,\n",
    "        'contenu':contenu,\n",
    "        'label':0\n",
    "    \"\"\"\n",
    "    i=0\n",
    "    for dat in data:\n",
    "        #print(dat['auteur'])\n",
    "        data1.append([i, str(dat['source']), str(dat['title']), str(dat['contenu']),str(dat['author']),str(dat['theme']), str(dat['label'])])\n",
    "        i=i+1\n",
    "    #print(data1)\n",
    "    columns=['id','source','title','text','author','theme','label']\n",
    "    bledDataNews=pd.DataFrame(data=data1,columns=columns)\n",
    "    bledDataNews.head()\n",
    "    return bledDataNews"
   ]
  },
  {
   "cell_type": "markdown",
   "metadata": {},
   "source": [
    "#### adamaoua\n"
   ]
  },
  {
   "cell_type": "code",
   "execution_count": 14,
   "metadata": {},
   "outputs": [
    {
     "name": "stdout",
     "output_type": "stream",
     "text": [
      "{'source': 'ecomatin', 'theme': 'people', 'author': '', 'title': 'Affaire Amadou Vamoulke : l’ancien DG de la Crtv dénonce l’absence de ses collaborateurs devant la barre', 'contenu': 'Interrogé le 24 août dernier par le Ministère public, l’accusé note que le directeur général ordonne le paiement. Mais, la logique qui l’y conduit est construite par ses collaborateurs.   L’apurement des comptes tiers fournisseur suscite l’attention de l’accusation. Le Ministère public reproche à l’accusé Amadou Vamoulke de faire recourt à ce procédé sans l’aval du Conseil d’administration. Il s’en est suivi une perte financière de 2,143 milliards. Or, l’article 41 de la loi du 22 décembre 1999 portant statut général des établissements publics et des entreprises du secteur public et parapublic mentionne l’accord préalable du Conseil d’administration\\xa0:\\xa0«\\xa0Pouvez-vous produire la résolution du Conseil d’administration vous ayant autorisé à faire procéder à l’apurement des comptes tiers fournisseur\\xa0?\\xa0»\\xa0Ainsi, questionne le Ministère public.\\xa0«\\xa0Vous ne trouverez nulle part cette autorisation dans les entreprises publiques.\\xa0»\\xa0Amadou Vamoulke note que l’apurement des comptes tiers est une demande du Conseil d’administration.\\xa0«\\xa0Elle a été faite selon les règles de l’art. La résolution est implicite du moment où le Conseil d’administration approuve les comptes (…) Lorsque vous dites détournement de la somme de 02 milliards Fcfa, elle est où cette somme\\xa0?\\xa0» Lire aussi : Affaire Vamoulké : les contradictions de l’audit de la Crtv Au cours de l’année 2010, la Crtv signe un contrat avec l’entreprise Ccfoot Limited. Ce contrat consiste en l’acquisition des images de la Coupe d’Afrique des nations (Can) Angola de la même année. L’accusé reproche au témoin du Ministère public, monsieur Bela Belinga d’avoir évoqué le défaut de matérialisation de l’objet du contrat. Ce qui suscite en lui des interrogations\\xa0:\\xa0«\\xa0Monsieur l’Avocat général, n’avez-vous pas vu la Can 2010\\xa0? Y a-t-il quelqu’un dans cette salle qui n’a pas vu la Can\\xa0? Que cette personne lève le doigt».\\xa0La réalisation de l’objet du contrat est matérialisée par l’attestation du service fait. Appelé à produire ladite attestation, Amadou Vamoulke balaie d’un revers de la main la demande du Ministère public\\xa0:\\xa0«\\xa0Il n’y a pas une seule entreprise au monde où la production de l’attestation du service fait relève du ressort du directeur général. On a mieux à faire.\\xa0» En outre, l’ex-directeur général de la Cameroon Radio Television (Crtv) souligne que l’entreprise\\xa0\\xa0Ccfoot est la personne morale ayant procédé à la fourniture de l’offre de service.\\xa0«\\xa0Mais, le bénéficiaire du virement est différent».\\xa0Ce qui conduit le témoin de l’accusation à déduire qu’il y a eu détournement\\xa0«\\xa0et qu’il est possible que ce bénéficiaire c’est moi. C’est Ccfoot qui a exécuté le contrat. La différence entre l’offreur initial et le bénéficiaire n’est pas notre préoccupation. Il y a une documentation qui montre que Ccfoot indique que c’est à ce compte-là qu’il faut virer l’argent».\\xa0Le pensionnaire de la prison centrale de kondengui ne manque pas de rappeler que les pays tel le Sénégal, le Gabon, le Ghana ont procédé au paiement des images à travers le même procédé. Primes indues Dans cette procédure, Amadou Vamoulke est également accusé d’avoir perçu des primes indues avec ses anciens collaborateurs. Ces rétributions sont relatives à la rémunération des travaux spéciaux ayant porté sur le budget programme. Le Parquet général sollicite de l’accusé, la production à l’adresse du Tribunal des résolutions du Conseil d’administration qui mandatent le mis en cause pour effectuer ces paiements querellés.\\xa0\\xa0L’ex-directeur de la Crtv rappelle d’entrée de jeu que le paiement des primes a deux fondements. Un texte du premier ministre. Le deuxième fondement c’est le budget de la Crtv. Cependant, Amadou Vamoulke dénonce la politique du deux poids deux mesures\\xa0:\\xa0«\\xa0Est-ce que vous trouvez logique que les sommes perçues par les employés encore vivants de la Crtv\\xa0\\xa0soient réclamées ou imputées au seul directeur général\\xa0?\\xa0» Lire aussi : Opération Epervier : des ONG demandent l’évacuation sanitaire d’Amadou Vamoulké A la question de savoir à qui incombait la responsabilité financière de la Crtv lorsqu’il officiait ex qualité de directeur général, Amadou Vamoulke marche sur les œufs. L’accusé indique que le mot\\xa0«\\xa0responsabilité\\xa0»\\xa0a quelques parentés avec le verbe\\xa0«\\xa0répondre\\xa0». A cet effet, qui répond\\xa0?\\xa0«\\xa0Tous ceux qui interviennent dans la chaine de dépense. Le directeur général ordonne le paiement. Mais, la logique qui l’y conduit est construite par ses collaborateurs.\\xa0»\\xa0Il ajoute que\\xa0\\xa0les liasses de dépense, c’est-à-dire les dossiers comportant tous les éléments sont suffisamment explicites pour indiquer qui a eu quelle initiative, qui a contrôlé qui a approuvé.\\xa0«\\xa0Généralement, le premier document vient du directeur des affaires administrative et financière (Daaf) qui fait une note». \\xa0Par ailleurs, Amadou Vamoulke est appelé à répondre des faits présumés de détournement des sommes de 10 milliards 662 millions 669 mille 306 Fcfa\\xa0; 525 millions 384 mille 483 Fcfa\\xa0; 235 millions Fcfa:\\xa0«\\xa0Si les accusations ont pour fondement une absence de justificatifs, et compte tenu du fait que le témoin unique, en deux mois de contrôle sur 06 exercices avait pu attendre la production des documents, il les aurait eus. Mais comme l’objet de son implication était d’un autre ordre, il ne pouvait pas attendre».\\xa0Toutefois, l’accusé dit être serein. Lire aussi : Contentieux : Jean-Louis Beh Mengue soupçonné du détournement de 389,720 millions de FCFA A la suite du contre-interrogatoire d’Amadou Vamoulke par le Ministère public, l’audience est suspendue. Elle est renvoyée aux 03 et 09 septembre prochains. Dans le cadre de cette affaire, le Ministère public et l’Etat du Cameroun poursuivent d’autres accusés.\\xa0Jean Pierre Mbiaga, Belinga Gabriel, Ngamva Lucie, Abel Gara, Zufambom Vishiti Christianna épouse Vega, répondent eux-aussi des infractions de\\xa0détournement de biens publics et coaction. René Ombala', 'label': 0}\n"
     ]
    }
   ],
   "source": [
    "\n",
    "URLs=[#'https://ecomatin.net/category/echos-des-regions/est/',\n",
    "     #'https://ecomatin.net/category/echos-des-regions/ad/',\n",
    "     #'https://ecomatin.net/category/echos-des-regions/centre/',\n",
    "     #'https://ecomatin.net/category/echos-des-regions/littoral/',\n",
    "     #'https://ecomatin.net/category/echos-des-regions/n/',\n",
    "     #'https://ecomatin.net/category/echos-des-regions/ouest/',\n",
    "     #'https://ecomatin.net/category/echos-des-regions/sud/',\n",
    "     #'https://ecomatin.net/category/conjoncture/mines-et-energies/',\n",
    "     'https://ecomatin.net/category/cj/avinash-hingorani/',\n",
    "     'https://ecomatin.net/category/cj/affaire-amadou-vamoulke/',\n",
    "     'https://ecomatin.net/category/cj/affaire-bekolo/',\n",
    "     'https://ecomatin.net/category/cj/affaire-beh-mengue/',\n",
    "     'https://ecomatin.net/category/cj/affaire-camwater/',\n",
    "     'https://ecomatin.net/category/cj/affaire-dieudonne-oyono/',\n",
    "     'https://ecomatin.net/category/cj/affaire-emmanuel-leubou/',\n",
    "     'https://ecomatin.net/category/cj/affaire-fotso-victor/',\n",
    "     'https://ecomatin.net/category/cj/affaire-mebe-ngoo/',\n",
    "     'https://ecomatin.net/category/politiques-publiques/sessions-parlementaires/session-parlementaire-de-juin-2021/',\n",
    "     'https://ecomatin.net/category/politiques-publiques/sessions-parlementaires/mars-2021/'\n",
    "]\n",
    "     \n",
    "\n",
    "data=[]\n",
    "for URL in URLs:\n",
    "    i=1\n",
    "    while requests.get(URL+\"page/\"+str(i)+'/').status_code == 200:\n",
    "        htmlText = requests.get(URL+\"page/\"+str(i)+'/').text\n",
    "        #print(requests.get(URL+\"page/\"+str(i)+'/').status_code)\n",
    "        \n",
    "        soup=BeautifulSoup(htmlText, 'html.parser')\n",
    "        if not soup is None:\n",
    "            elt0=soup.find('div',class_=\"mag-box-container clearfix\")\n",
    "            #print(elt0)\n",
    "            \n",
    "            elt1=elt0.find_all('li',class_=\"post-item\")\n",
    "            for item in elt1:\n",
    "                elt2=item.find('div',class_='post-details')\n",
    "                elt3 = elt2.find('h2',class_=\"post-title\").find('a')\n",
    "                if URL in ['https://ecomatin.net/category/echos-des-regions/est/',\n",
    "                            'https://ecomatin.net/category/echos-des-regions/ad/',\n",
    "                            'https://ecomatin.net/category/echos-des-regions/centre/',\n",
    "                            'https://ecomatin.net/category/echos-des-regions/littoral/',\n",
    "                            'https://ecomatin.net/category/echos-des-regions/n/',\n",
    "                            'https://ecomatin.net/category/echos-des-regions/ouest/',\n",
    "                            'https://ecomatin.net/category/echos-des-regions/sud/']:\n",
    "                    theme='echos des regions'\n",
    "                elif URL in ['https://ecomatin.net/category/cj/avinash-hingorani/',\n",
    "                            'https://ecomatin.net/category/cj/affaire-amadou-vamoulke/',\n",
    "                            'https://ecomatin.net/category/cj/affaire-bekolo/',\n",
    "                            'https://ecomatin.net/category/cj/affaire-beh-mengue/',\n",
    "                            'https://ecomatin.net/category/cj/affaire-camwater/',\n",
    "                            'https://ecomatin.net/category/cj/affaire-dieudonne-oyono/',\n",
    "                            'https://ecomatin.net/category/cj/affaire-emmanuel-leubou/',\n",
    "                            'https://ecomatin.net/category/cj/affaire-fotso-victor/',\n",
    "                            'https://ecomatin.net/category/cj/affaire-mebe-ngoo/']:\n",
    "                    theme='people'\n",
    "                elif URL in ['https://ecomatin.net/category/politiques-publiques/sessions-parlementaires/session-parlementaire-de-juin-2021/',\n",
    "                             'https://ecomatin.net/category/politiques-publiques/sessions-parlementaires/mars-2021/']:\n",
    "                    theme='politque'\n",
    "                else :\n",
    "                    theme='economie'\n",
    "            data.append({\n",
    "            'source':'ecomatin',\n",
    "            'theme':theme,\n",
    "            'author':'',\n",
    "            'title':elt3.text,\n",
    "            'contenu':getContent((elt3.get('href'))),\n",
    "            'label':0\n",
    "            })    \n",
    "            i=i+1\n",
    "#print(elt)\n",
    "print(data[1])\n"
   ]
  },
  {
   "cell_type": "code",
   "execution_count": 15,
   "metadata": {},
   "outputs": [],
   "source": [
    "import datetime\n",
    "today=datetime.datetime.today().strftime('%Y-%m-%d')\n",
    "nameFile1=\"ecomatin_actualite--\"+str(today)+\".csv\"\n",
    "getCSV(data).to_csv(nameFile1, index=False)"
   ]
  },
  {
   "cell_type": "markdown",
   "metadata": {},
   "source": [
    "#### 2eme partie EcoMatin\n"
   ]
  },
  {
   "cell_type": "code",
   "execution_count": 16,
   "metadata": {},
   "outputs": [],
   "source": [
    "from bs4 import BeautifulSoup\n",
    "import requests\n",
    "import pandas as pd\n"
   ]
  },
  {
   "cell_type": "code",
   "execution_count": 17,
   "metadata": {},
   "outputs": [],
   "source": [
    "def getContent(url):\n",
    "    htmlText1 = requests.get(url).text\n",
    "    otherSubTitle=\"\"\n",
    "    subTitle=\"\"\n",
    "    soup1=BeautifulSoup(htmlText1, 'html.parser')\n",
    "    #print(soup1)\n",
    "    if not soup1.find('h2',class_=\"entry-sub-title\") is None:\n",
    "        subTitle=soup1.find('h2',class_=\"entry-sub-title\").text\n",
    "        #find('div',class_='site-content container')\n",
    "        #print(\"kllklksd;lk;sdlk\"+str(subTitle)+\"\\n\")\n",
    "        elt=soup1.find('div',class_='entry-content entry clearfix')\n",
    "        #print(elt)\n",
    "        if len(elt.find_all('p'))!=0 and not elt.find_all('p') is None:\n",
    "            temp=elt.find_all('p')\n",
    "            #print(temp)\n",
    "            for e in temp:\n",
    "                otherSubTitle=otherSubTitle+\" \"+str(e.text)\n",
    "    return subTitle+\" \"+otherSubTitle"
   ]
  },
  {
   "cell_type": "code",
   "execution_count": 18,
   "metadata": {},
   "outputs": [],
   "source": [
    "def getCSV(data):   \n",
    "    data1=[]\n",
    "    \"\"\"\n",
    "    'auteur':auteur,\n",
    "        'title':title,\n",
    "        'contenu':contenu,\n",
    "        'label':0\n",
    "    \"\"\"\n",
    "    i=0\n",
    "    for dat in data:\n",
    "        #print(dat['auteur'])\n",
    "        data1.append([i, str(dat['source']), str(dat['title']), str(dat['contenu']),str(dat['author']),str(dat['theme']), str(dat['label'])])\n",
    "        i=i+1\n",
    "    #print(data1)\n",
    "    columns=['id','source','title','text','author','theme','label']\n",
    "    bledDataNews=pd.DataFrame(data=data1,columns=columns)\n",
    "    bledDataNews.head()\n",
    "    return bledDataNews"
   ]
  },
  {
   "cell_type": "code",
   "execution_count": 19,
   "metadata": {},
   "outputs": [
    {
     "name": "stdout",
     "output_type": "stream",
     "text": [
      "200\n",
      "elt1Assemblée nationale : le bilan de la session de novembre\n",
      "\n",
      "elt1Loi de finances 2022 : Zoom sur les priorités du Mincommerce, Minepat, Minpostel, Minepia…\n",
      "\n",
      "elt1Electricité : le gouvernement annonce la construction d’une ligne de 511 km pour l’interconnexion des réseaux Nord et Sud\n",
      "\n",
      "elt1Couverture santé Universelle : la phase pilote reportée à 2022\n",
      "\n",
      "elt1Septentrion : le gouvernement va installer 2 centrales énergétiques  à Guider pour réduire les coupures d’électricité\n",
      "\n",
      "elt110 ans  après, le ministère des Transports annonce l’actualisation des études de faisabilité du port en eau profonde de Limbé pour 2022\n",
      "\n",
      "elt1Titres fonciers : le Mindcaf va mettre en place un numéro vert «1527»  pour la dénonciation des actes de  corruption\n",
      "\n",
      "elt1Infrastructures routières : le Cameroun veut construire 492,22 km de routes en 2022\n",
      "\n",
      "elt1Production laitière : le Minepia va importer de nouvelles génisses en provenance de la France\n",
      "\n",
      "elt1Made in Cameroon : près de 400 millions de F destinée au développement et à la diversification des exportations\n",
      "\n",
      "200\n",
      "elt1Fonction Publique: 62 153 dossiers de recrutement, intégration, reclassement et avancement traités en 2021\n",
      "\n",
      "elt1Loi de finances 2022: l’Assemblée nationale sollicite une enveloppe budgétaire de 28,4 milliards pour optimiser son fonctionnement\n",
      "\n",
      "elt1Selon Jacques Fame Ndongo, 1380 entreprises ont été créés par les diplômés de l’enseignement supérieur en moins de 5 ans\n",
      "\n",
      "elt1Education : face aux députés, le gouvernement réaffirme vouloir maintenir à 25 000 FCFA les frais d’APEE dans les écoles\n",
      "\n",
      "elt1Loi de finances : l’État vise un taux de croissance de 4,2% en 2022\n",
      "\n",
      "elt1Loi de finances : une taxe de 0,2% sur les transferts d’argent via Mobile Money en vigueur dès 2022\n",
      "\n",
      "elt1Pour Célestin Tawamba, le secteur privé n’a pas été associé à l’élaboration de la loi de finances 2022\n",
      "\n",
      "elt1Les députés demandent à l’Etat d’augmenter sa contribution au financement de la reconstruction des régions anglophones\n",
      "\n",
      "elt1Assemblée nationale : une journée pour la paix à l’hémicycle\n",
      "\n",
      "elt1Nord-Ouest/Sud-Ouest: des projets d’infrastructures de 16,4 milliards non exécutés en 3 ans\n",
      "\n",
      "200\n",
      "elt1Assemblée nationale : Laurent Esso désavoue le Collectif des Huissiers de justice en attente de charges\n",
      "\n",
      "elt1Organisation de la CAN 2021 : le ministre des Sports donne des garanties au Parlement\n",
      "\n",
      "elt1Infrastructures routières, intégration des huissiers… : trois ministres se justifient devant les députés\n",
      "\n",
      "elt1Assemblée nationale : un projet de loi régissant les organisations interprofessionnelles en examen\n",
      "\n",
      "elt1Assemblée nationale : vers la ratification du protocole relatif aux droits des personnes âgées\n",
      "\n",
      "elt1Joshua Osih (SDF) : « le budget a déjà 15 jours de retard »\n",
      "\n",
      "elt1Assemblée nationale : les six premiers projets de loi sur la table des députés\n",
      "\n",
      "elt1Assemblée Nationale : La SND-30 expliquée aux députés\n",
      "\n",
      "elt1Budget 2022 : les principales innovations fiscales\n",
      "\n",
      "elt1Loi de finances : l’Etat du Cameroun veut instituer une taxe sur les transferts d’argent dès 2022\n",
      "\n",
      "200\n",
      "elt1Loi de finances 2022 : le Cameroun veut porter à 50% la taxe sur l’exportation du bois sous forme de grumes\n",
      "\n",
      "elt1Budget 2022 : Cavaye Yeguié Djibril demande le respect des orientations du chef de l’Etat\n",
      "\n",
      "elt1Loi de finances 2022 : le gouvernement propose un budget de 5762,4 milliards en hausse de 5,1%\n",
      "\n"
     ]
    }
   ],
   "source": [
    "\n",
    "URLs=['https://ecomatin.net/category/politiques-publiques/sessions-parlementaires/session-parlementaire-de-novembre-2021/',\n",
    "      # 'https://ecomatin.net/category/snd30/',\n",
    "      # 'https://ecomatin.net/category/business-et-entreprises/',\n",
    "      # 'https://ecomatin.net/category/banques-et-finances/',\n",
    "      # 'https://ecomatin.net/category/can-2021/'\n",
    "]\n",
    "     \n",
    "\n",
    "data=[]\n",
    "for URL in URLs:\n",
    "    i=1\n",
    "    while requests.get(URL+\"page/\"+str(i)+'/').status_code == 200:\n",
    "        htmlText = requests.get(URL+\"page/\"+str(i)+'/').text\n",
    "        print(requests.get(URL+\"page/\"+str(i)+'/').status_code)\n",
    "        \n",
    "        soup=BeautifulSoup(htmlText, 'html.parser')\n",
    "        if not soup is None:\n",
    "            elt0=soup.find('ul',class_=\"posts-items\")\n",
    "            #print(elt0)\n",
    "            #print(\"elt0\"+str(elt0)+\"\\n\")\n",
    "            \n",
    "            elt1=elt0.find_all('li',class_=\"post-item\")# is-trending tie-standard \")\n",
    "            #print(\"elt1\"+str(elt1)+\"\\n\")\n",
    "            for item in elt1:\n",
    "                elt2=item.find('div',class_='post-overlay')\n",
    "                elt3 = elt2.find('h2',class_=\"post-title\").find('a')\n",
    "                print(\"elt1\"+str(elt3.text)+\"\\n\")\n",
    "                if URL in ['https://ecomatin.net/category/snd30/',\n",
    "                            'https://ecomatin.net/category/business-et-entreprises/',\n",
    "                            'https://ecomatin.net/category/banques-et-finances/']:\n",
    "                    theme='economie'\n",
    "                elif URL == 'https://ecomatin.net/category/politiques-publiques/sessions-parlementaires/session-parlementaire-de-novembre-2021/':\n",
    "                    theme='politique'\n",
    "                else:\n",
    "                    theme='sport'\n",
    "            data.append({\n",
    "            'source':'ecomatin',\n",
    "            'theme':theme,\n",
    "            'author':'',\n",
    "            'title':elt3.text,\n",
    "            'contenu':getContent((elt3.get('href'))),\n",
    "            'label':0\n",
    "            })    \n",
    "            i=i+1\n",
    "#print(elt)\n",
    "\n"
   ]
  },
  {
   "cell_type": "code",
   "execution_count": null,
   "metadata": {},
   "outputs": [],
   "source": [
    "import datetime\n",
    "today=datetime.datetime.today().strftime('%Y-%m-%d')\n",
    "nameFile2=\"ecomatin_economie\"+\"__\"+str(today)+\".csv\"\n",
    "getCSV(data).to_csv(nameFile2, index=False)"
   ]
  },
  {
   "cell_type": "markdown",
   "metadata": {},
   "source": [
    "### Other\n"
   ]
  },
  {
   "cell_type": "code",
   "execution_count": 3,
   "metadata": {},
   "outputs": [],
   "source": [
    "if 'bonjour monsieur' in 'bonjour madame':\n",
    "    print('ok')"
   ]
  }
 ],
 "metadata": {
  "interpreter": {
   "hash": "34facd98c0ce5419163ca97320a9b69bd75135fd295ec44b93c4fe55ca14c732"
  },
  "kernelspec": {
   "display_name": "Python 3.7.6 64-bit",
   "language": "python",
   "name": "python3"
  },
  "language_info": {
   "codemirror_mode": {
    "name": "ipython",
    "version": 3
   },
   "file_extension": ".py",
   "mimetype": "text/x-python",
   "name": "python",
   "nbconvert_exporter": "python",
   "pygments_lexer": "ipython3",
   "version": "3.7.0"
  },
  "orig_nbformat": 4
 },
 "nbformat": 4,
 "nbformat_minor": 2
}
